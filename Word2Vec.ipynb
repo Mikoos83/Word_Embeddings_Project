{
  "nbformat": 4,
  "nbformat_minor": 0,
  "metadata": {
    "colab": {
      "provenance": [],
      "include_colab_link": true
    },
    "kernelspec": {
      "name": "python3",
      "display_name": "Python 3"
    },
    "language_info": {
      "name": "python"
    }
  },
  "cells": [
    {
      "cell_type": "markdown",
      "metadata": {
        "id": "view-in-github",
        "colab_type": "text"
      },
      "source": [
        "<a href=\"https://colab.research.google.com/github/suinkangme/Word-Embeddings-Experiments/blob/main/Word2Vec.ipynb\" target=\"_parent\"><img src=\"https://colab.research.google.com/assets/colab-badge.svg\" alt=\"Open In Colab\"/></a>"
      ]
    },
    {
      "cell_type": "markdown",
      "source": [
        "# Experiments with Word Embeddings"
      ],
      "metadata": {
        "id": "e97eyIgDfwT8"
      }
    },
    {
      "cell_type": "code",
      "source": [
        "# import libraries\n",
        "import pandas as pd\n",
        "import numpy as np\n",
        "import gensim\n",
        "import gensim.downloader as api"
      ],
      "metadata": {
        "id": "tiCduIkLDONR"
      },
      "execution_count": 1,
      "outputs": []
    },
    {
      "cell_type": "markdown",
      "source": [
        "### Import the MyDrive library from CoLab"
      ],
      "metadata": {
        "id": "ADbXnhLVxQB_"
      }
    },
    {
      "cell_type": "code",
      "source": [
        "from google.colab import drive\n",
        "drive.mount('/content/drive')\n",
        "\n",
        "# the directory owns this notebook and dataset\n",
        "import os\n",
        "os.chdir('/content/drive/MyDrive/comp472/')"
      ],
      "metadata": {
        "id": "xEhi2syIDORK",
        "outputId": "1aa1a69a-74bc-42e2-a2f0-5cb7a16c6645",
        "colab": {
          "base_uri": "https://localhost:8080/"
        }
      },
      "execution_count": 2,
      "outputs": [
        {
          "output_type": "stream",
          "name": "stdout",
          "text": [
            "Mounted at /content/drive\n"
          ]
        }
      ]
    },
    {
      "cell_type": "markdown",
      "source": [
        "### Load the dataset"
      ],
      "metadata": {
        "id": "OLmR-LaGxmd6"
      }
    },
    {
      "cell_type": "code",
      "source": [
        "# load dataset\n",
        "data_synonym = pd.read_csv('synonym.csv')\n",
        "data_synonym.head()"
      ],
      "metadata": {
        "id": "fOzi9fRgDOPV",
        "outputId": "c8412a24-4e6a-4fac-dfe7-7515035fe43a",
        "colab": {
          "base_uri": "https://localhost:8080/",
          "height": 206
        }
      },
      "execution_count": 3,
      "outputs": [
        {
          "output_type": "execute_result",
          "data": {
            "text/plain": [
              "      question        answer              0               1              2  \\\n",
              "0   enormously  tremendously  appropriately        uniquely   tremendously   \n",
              "1   provisions  stipulations   stipulations  interrelations  jurisdictions   \n",
              "2  haphazardly      randomly    dangerously         densely       randomly   \n",
              "3    prominent   conspicuous       battered         ancient     mysterious   \n",
              "4       zenith      pinnacle     completion        pinnacle         outset   \n",
              "\n",
              "                 3  \n",
              "0        decidedly  \n",
              "1  interpretations  \n",
              "2         linearly  \n",
              "3      conspicuous  \n",
              "4          decline  "
            ],
            "text/html": [
              "\n",
              "  <div id=\"df-e51eb12d-696b-4fee-a423-0f2efc9c8e60\" class=\"colab-df-container\">\n",
              "    <div>\n",
              "<style scoped>\n",
              "    .dataframe tbody tr th:only-of-type {\n",
              "        vertical-align: middle;\n",
              "    }\n",
              "\n",
              "    .dataframe tbody tr th {\n",
              "        vertical-align: top;\n",
              "    }\n",
              "\n",
              "    .dataframe thead th {\n",
              "        text-align: right;\n",
              "    }\n",
              "</style>\n",
              "<table border=\"1\" class=\"dataframe\">\n",
              "  <thead>\n",
              "    <tr style=\"text-align: right;\">\n",
              "      <th></th>\n",
              "      <th>question</th>\n",
              "      <th>answer</th>\n",
              "      <th>0</th>\n",
              "      <th>1</th>\n",
              "      <th>2</th>\n",
              "      <th>3</th>\n",
              "    </tr>\n",
              "  </thead>\n",
              "  <tbody>\n",
              "    <tr>\n",
              "      <th>0</th>\n",
              "      <td>enormously</td>\n",
              "      <td>tremendously</td>\n",
              "      <td>appropriately</td>\n",
              "      <td>uniquely</td>\n",
              "      <td>tremendously</td>\n",
              "      <td>decidedly</td>\n",
              "    </tr>\n",
              "    <tr>\n",
              "      <th>1</th>\n",
              "      <td>provisions</td>\n",
              "      <td>stipulations</td>\n",
              "      <td>stipulations</td>\n",
              "      <td>interrelations</td>\n",
              "      <td>jurisdictions</td>\n",
              "      <td>interpretations</td>\n",
              "    </tr>\n",
              "    <tr>\n",
              "      <th>2</th>\n",
              "      <td>haphazardly</td>\n",
              "      <td>randomly</td>\n",
              "      <td>dangerously</td>\n",
              "      <td>densely</td>\n",
              "      <td>randomly</td>\n",
              "      <td>linearly</td>\n",
              "    </tr>\n",
              "    <tr>\n",
              "      <th>3</th>\n",
              "      <td>prominent</td>\n",
              "      <td>conspicuous</td>\n",
              "      <td>battered</td>\n",
              "      <td>ancient</td>\n",
              "      <td>mysterious</td>\n",
              "      <td>conspicuous</td>\n",
              "    </tr>\n",
              "    <tr>\n",
              "      <th>4</th>\n",
              "      <td>zenith</td>\n",
              "      <td>pinnacle</td>\n",
              "      <td>completion</td>\n",
              "      <td>pinnacle</td>\n",
              "      <td>outset</td>\n",
              "      <td>decline</td>\n",
              "    </tr>\n",
              "  </tbody>\n",
              "</table>\n",
              "</div>\n",
              "    <div class=\"colab-df-buttons\">\n",
              "\n",
              "  <div class=\"colab-df-container\">\n",
              "    <button class=\"colab-df-convert\" onclick=\"convertToInteractive('df-e51eb12d-696b-4fee-a423-0f2efc9c8e60')\"\n",
              "            title=\"Convert this dataframe to an interactive table.\"\n",
              "            style=\"display:none;\">\n",
              "\n",
              "  <svg xmlns=\"http://www.w3.org/2000/svg\" height=\"24px\" viewBox=\"0 -960 960 960\">\n",
              "    <path d=\"M120-120v-720h720v720H120Zm60-500h600v-160H180v160Zm220 220h160v-160H400v160Zm0 220h160v-160H400v160ZM180-400h160v-160H180v160Zm440 0h160v-160H620v160ZM180-180h160v-160H180v160Zm440 0h160v-160H620v160Z\"/>\n",
              "  </svg>\n",
              "    </button>\n",
              "\n",
              "  <style>\n",
              "    .colab-df-container {\n",
              "      display:flex;\n",
              "      gap: 12px;\n",
              "    }\n",
              "\n",
              "    .colab-df-convert {\n",
              "      background-color: #E8F0FE;\n",
              "      border: none;\n",
              "      border-radius: 50%;\n",
              "      cursor: pointer;\n",
              "      display: none;\n",
              "      fill: #1967D2;\n",
              "      height: 32px;\n",
              "      padding: 0 0 0 0;\n",
              "      width: 32px;\n",
              "    }\n",
              "\n",
              "    .colab-df-convert:hover {\n",
              "      background-color: #E2EBFA;\n",
              "      box-shadow: 0px 1px 2px rgba(60, 64, 67, 0.3), 0px 1px 3px 1px rgba(60, 64, 67, 0.15);\n",
              "      fill: #174EA6;\n",
              "    }\n",
              "\n",
              "    .colab-df-buttons div {\n",
              "      margin-bottom: 4px;\n",
              "    }\n",
              "\n",
              "    [theme=dark] .colab-df-convert {\n",
              "      background-color: #3B4455;\n",
              "      fill: #D2E3FC;\n",
              "    }\n",
              "\n",
              "    [theme=dark] .colab-df-convert:hover {\n",
              "      background-color: #434B5C;\n",
              "      box-shadow: 0px 1px 3px 1px rgba(0, 0, 0, 0.15);\n",
              "      filter: drop-shadow(0px 1px 2px rgba(0, 0, 0, 0.3));\n",
              "      fill: #FFFFFF;\n",
              "    }\n",
              "  </style>\n",
              "\n",
              "    <script>\n",
              "      const buttonEl =\n",
              "        document.querySelector('#df-e51eb12d-696b-4fee-a423-0f2efc9c8e60 button.colab-df-convert');\n",
              "      buttonEl.style.display =\n",
              "        google.colab.kernel.accessAllowed ? 'block' : 'none';\n",
              "\n",
              "      async function convertToInteractive(key) {\n",
              "        const element = document.querySelector('#df-e51eb12d-696b-4fee-a423-0f2efc9c8e60');\n",
              "        const dataTable =\n",
              "          await google.colab.kernel.invokeFunction('convertToInteractive',\n",
              "                                                    [key], {});\n",
              "        if (!dataTable) return;\n",
              "\n",
              "        const docLinkHtml = 'Like what you see? Visit the ' +\n",
              "          '<a target=\"_blank\" href=https://colab.research.google.com/notebooks/data_table.ipynb>data table notebook</a>'\n",
              "          + ' to learn more about interactive tables.';\n",
              "        element.innerHTML = '';\n",
              "        dataTable['output_type'] = 'display_data';\n",
              "        await google.colab.output.renderOutput(dataTable, element);\n",
              "        const docLink = document.createElement('div');\n",
              "        docLink.innerHTML = docLinkHtml;\n",
              "        element.appendChild(docLink);\n",
              "      }\n",
              "    </script>\n",
              "  </div>\n",
              "\n",
              "\n",
              "<div id=\"df-9d4afa50-bfd0-42b8-8800-7680ab5090aa\">\n",
              "  <button class=\"colab-df-quickchart\" onclick=\"quickchart('df-9d4afa50-bfd0-42b8-8800-7680ab5090aa')\"\n",
              "            title=\"Suggest charts\"\n",
              "            style=\"display:none;\">\n",
              "\n",
              "<svg xmlns=\"http://www.w3.org/2000/svg\" height=\"24px\"viewBox=\"0 0 24 24\"\n",
              "     width=\"24px\">\n",
              "    <g>\n",
              "        <path d=\"M19 3H5c-1.1 0-2 .9-2 2v14c0 1.1.9 2 2 2h14c1.1 0 2-.9 2-2V5c0-1.1-.9-2-2-2zM9 17H7v-7h2v7zm4 0h-2V7h2v10zm4 0h-2v-4h2v4z\"/>\n",
              "    </g>\n",
              "</svg>\n",
              "  </button>\n",
              "\n",
              "<style>\n",
              "  .colab-df-quickchart {\n",
              "      --bg-color: #E8F0FE;\n",
              "      --fill-color: #1967D2;\n",
              "      --hover-bg-color: #E2EBFA;\n",
              "      --hover-fill-color: #174EA6;\n",
              "      --disabled-fill-color: #AAA;\n",
              "      --disabled-bg-color: #DDD;\n",
              "  }\n",
              "\n",
              "  [theme=dark] .colab-df-quickchart {\n",
              "      --bg-color: #3B4455;\n",
              "      --fill-color: #D2E3FC;\n",
              "      --hover-bg-color: #434B5C;\n",
              "      --hover-fill-color: #FFFFFF;\n",
              "      --disabled-bg-color: #3B4455;\n",
              "      --disabled-fill-color: #666;\n",
              "  }\n",
              "\n",
              "  .colab-df-quickchart {\n",
              "    background-color: var(--bg-color);\n",
              "    border: none;\n",
              "    border-radius: 50%;\n",
              "    cursor: pointer;\n",
              "    display: none;\n",
              "    fill: var(--fill-color);\n",
              "    height: 32px;\n",
              "    padding: 0;\n",
              "    width: 32px;\n",
              "  }\n",
              "\n",
              "  .colab-df-quickchart:hover {\n",
              "    background-color: var(--hover-bg-color);\n",
              "    box-shadow: 0 1px 2px rgba(60, 64, 67, 0.3), 0 1px 3px 1px rgba(60, 64, 67, 0.15);\n",
              "    fill: var(--button-hover-fill-color);\n",
              "  }\n",
              "\n",
              "  .colab-df-quickchart-complete:disabled,\n",
              "  .colab-df-quickchart-complete:disabled:hover {\n",
              "    background-color: var(--disabled-bg-color);\n",
              "    fill: var(--disabled-fill-color);\n",
              "    box-shadow: none;\n",
              "  }\n",
              "\n",
              "  .colab-df-spinner {\n",
              "    border: 2px solid var(--fill-color);\n",
              "    border-color: transparent;\n",
              "    border-bottom-color: var(--fill-color);\n",
              "    animation:\n",
              "      spin 1s steps(1) infinite;\n",
              "  }\n",
              "\n",
              "  @keyframes spin {\n",
              "    0% {\n",
              "      border-color: transparent;\n",
              "      border-bottom-color: var(--fill-color);\n",
              "      border-left-color: var(--fill-color);\n",
              "    }\n",
              "    20% {\n",
              "      border-color: transparent;\n",
              "      border-left-color: var(--fill-color);\n",
              "      border-top-color: var(--fill-color);\n",
              "    }\n",
              "    30% {\n",
              "      border-color: transparent;\n",
              "      border-left-color: var(--fill-color);\n",
              "      border-top-color: var(--fill-color);\n",
              "      border-right-color: var(--fill-color);\n",
              "    }\n",
              "    40% {\n",
              "      border-color: transparent;\n",
              "      border-right-color: var(--fill-color);\n",
              "      border-top-color: var(--fill-color);\n",
              "    }\n",
              "    60% {\n",
              "      border-color: transparent;\n",
              "      border-right-color: var(--fill-color);\n",
              "    }\n",
              "    80% {\n",
              "      border-color: transparent;\n",
              "      border-right-color: var(--fill-color);\n",
              "      border-bottom-color: var(--fill-color);\n",
              "    }\n",
              "    90% {\n",
              "      border-color: transparent;\n",
              "      border-bottom-color: var(--fill-color);\n",
              "    }\n",
              "  }\n",
              "</style>\n",
              "\n",
              "  <script>\n",
              "    async function quickchart(key) {\n",
              "      const quickchartButtonEl =\n",
              "        document.querySelector('#' + key + ' button');\n",
              "      quickchartButtonEl.disabled = true;  // To prevent multiple clicks.\n",
              "      quickchartButtonEl.classList.add('colab-df-spinner');\n",
              "      try {\n",
              "        const charts = await google.colab.kernel.invokeFunction(\n",
              "            'suggestCharts', [key], {});\n",
              "      } catch (error) {\n",
              "        console.error('Error during call to suggestCharts:', error);\n",
              "      }\n",
              "      quickchartButtonEl.classList.remove('colab-df-spinner');\n",
              "      quickchartButtonEl.classList.add('colab-df-quickchart-complete');\n",
              "    }\n",
              "    (() => {\n",
              "      let quickchartButtonEl =\n",
              "        document.querySelector('#df-9d4afa50-bfd0-42b8-8800-7680ab5090aa button');\n",
              "      quickchartButtonEl.style.display =\n",
              "        google.colab.kernel.accessAllowed ? 'block' : 'none';\n",
              "    })();\n",
              "  </script>\n",
              "</div>\n",
              "    </div>\n",
              "  </div>\n"
            ]
          },
          "metadata": {},
          "execution_count": 3
        }
      ]
    },
    {
      "cell_type": "code",
      "source": [
        "analysis_file = open('analysis.csv', 'w')"
      ],
      "metadata": {
        "id": "MM9KKTGKt2Pt"
      },
      "execution_count": 68,
      "outputs": []
    },
    {
      "cell_type": "code",
      "source": [
        "def find_best_synonym(model, model_name, analysis_file):\n",
        "  C = 0  # total number of correct labels\n",
        "  V = 0  # total number of questions without guessing\n",
        "  with open(f\"{model_name}-details.csv\", \"w\") as outputFile:\n",
        "\n",
        "    outputFile.write(\"question-word,correct answer-word, model's guess-word,label\\n\")\n",
        "\n",
        "    for i in range(len(data_synonym)):\n",
        "      question_word = data_synonym.iloc[i, 0]\n",
        "      correct_word = data_synonym.iloc[i, 1]\n",
        "      guess_words = [data_synonym.iloc[i, j] for j in range(2, 6)]\n",
        "\n",
        "      system_guess = ''\n",
        "      result = 0\n",
        "      if question_word in model.key_to_index:\n",
        "        for word in guess_words:\n",
        "          if word in model.key_to_index:\n",
        "            similarity = model.similarity(question_word, word)\n",
        "            if similarity > result:\n",
        "              result = similarity\n",
        "              system_guess = word\n",
        "\n",
        "        if system_guess != '':\n",
        "          V += 1\n",
        "          # check if the model's guess is correct\n",
        "          if system_guess == correct_word:\n",
        "            label = 'correct'\n",
        "            C += 1\n",
        "          else:\n",
        "            label = 'wrong'\n",
        "\n",
        "          # all four guess-words were not found in the model's similar_guess_words\n",
        "        else:\n",
        "          label = 'guess'\n",
        "\n",
        "        # the question word is NOT found in the model\n",
        "      else:\n",
        "        label = 'guess'\n",
        "\n",
        "      outputFile.write(f\"{question_word},{correct_word},{system_guess},{label}\\n\")\n",
        "\n",
        "    accuracy = C / V\n",
        "    vocabulary_size = len(model.key_to_index)\n",
        "    analysis_file.write(f\"{model_name}, {vocabulary_size}, {C}, {V}, {accuracy}\\n\")\n",
        "    analysis_file.flush()\n",
        "    outputFile.close()"
      ],
      "metadata": {
        "id": "ppZKAsWosGhL"
      },
      "execution_count": 5,
      "outputs": []
    },
    {
      "cell_type": "code",
      "source": [
        "def find_best_synonym_wv(model, model_name, analysis_file):\n",
        "  C = 0  # total number of correct labels\n",
        "  V = 0  # total number of questions without guessing\n",
        "  with open(f\"{model_name}-details.csv\", \"w\") as outputFile:\n",
        "\n",
        "    outputFile.write(\"question-word,correct answer-word, model's guess-word,label\\n\")\n",
        "\n",
        "    for i in range(len(data_synonym)):\n",
        "      question_word = data_synonym.iloc[i, 0]\n",
        "      correct_word = data_synonym.iloc[i, 1]\n",
        "      guess_words = [data_synonym.iloc[i, j] for j in range(2, 6)]\n",
        "\n",
        "      system_guess = ''\n",
        "      result = 0\n",
        "      if question_word in model.wv.key_to_index:\n",
        "        for word in guess_words:\n",
        "          if word in model.wv.key_to_index:\n",
        "            similarity = model.wv.similarity(question_word, word)\n",
        "            if similarity > result:\n",
        "              result = similarity\n",
        "              system_guess = word\n",
        "\n",
        "        if system_guess != '':\n",
        "          V += 1\n",
        "          # check if the model's guess is correct\n",
        "          if system_guess == correct_word:\n",
        "            label = 'correct'\n",
        "            C += 1\n",
        "          else:\n",
        "            label = 'wrong'\n",
        "\n",
        "          # all four guess-words were not found in the model's similar_guess_words\n",
        "        else:\n",
        "          label = 'guess'\n",
        "\n",
        "        # the question word is NOT found in the model\n",
        "      else:\n",
        "        label = 'guess'\n",
        "\n",
        "      outputFile.write(f\"{question_word},{correct_word},{system_guess},{label}\\n\")\n",
        "\n",
        "    accuracy = C / V\n",
        "    vocabulary_size = len(model.wv.key_to_index)\n",
        "    analysis_file.write(f\"{model_name}, {vocabulary_size}, {C}, {V}, {accuracy}\\n\")\n",
        "    analysis_file.flush()\n",
        "    outputFile.close()"
      ],
      "metadata": {
        "id": "E4sq7D-F_dAO"
      },
      "execution_count": 6,
      "outputs": []
    },
    {
      "cell_type": "markdown",
      "source": [
        "## Task 1"
      ],
      "metadata": {
        "id": "x3V2uaRjxq22"
      }
    },
    {
      "cell_type": "code",
      "source": [
        "info = api.info()\n",
        "model = api.load(\"word2vec-google-news-300\")"
      ],
      "metadata": {
        "id": "l1zsdEdhxpx2"
      },
      "execution_count": 30,
      "outputs": []
    },
    {
      "cell_type": "code",
      "source": [
        "find_best_synonym(model, \"word2vec-google-news-300\", analysis_file)"
      ],
      "metadata": {
        "id": "M34zmSMoTG0y"
      },
      "execution_count": 69,
      "outputs": []
    },
    {
      "cell_type": "markdown",
      "source": [
        "## Task 2"
      ],
      "metadata": {
        "id": "HqosWT3Nfr97"
      }
    },
    {
      "cell_type": "markdown",
      "source": [
        "### Different corpora but same embedding size"
      ],
      "metadata": {
        "id": "kR45WC7ITaim"
      }
    },
    {
      "cell_type": "code",
      "source": [
        "info = api.info()\n",
        "model_gt50 = api.load(\"glove-twitter-50\")"
      ],
      "metadata": {
        "id": "zAmrOWpffs1L"
      },
      "execution_count": 32,
      "outputs": []
    },
    {
      "cell_type": "code",
      "source": [
        "find_best_synonym(model_gt50, \"glove-twitter-50\", analysis_file)"
      ],
      "metadata": {
        "id": "BoBUlP38ftTU"
      },
      "execution_count": 70,
      "outputs": []
    },
    {
      "cell_type": "code",
      "source": [
        "info = api.info()\n",
        "model_gw50 = api.load(\"glove-wiki-gigaword-50\")"
      ],
      "metadata": {
        "id": "-dShH9OqVEht"
      },
      "execution_count": 34,
      "outputs": []
    },
    {
      "cell_type": "code",
      "source": [
        "find_best_synonym(model_gw50, \"glove-wiki-gigaword-50\", analysis_file)"
      ],
      "metadata": {
        "id": "n9T_Mr4bT7kr"
      },
      "execution_count": 71,
      "outputs": []
    },
    {
      "cell_type": "markdown",
      "source": [
        "### Same corpora different size"
      ],
      "metadata": {
        "id": "2uL5IcLgTsvC"
      }
    },
    {
      "cell_type": "code",
      "source": [
        "info = api.info()\n",
        "model_gt25 = api.load(\"glove-twitter-25\")"
      ],
      "metadata": {
        "id": "99IMa0smftYj"
      },
      "execution_count": 36,
      "outputs": []
    },
    {
      "cell_type": "code",
      "source": [
        "find_best_synonym(model_gt25, \"glove-twitter-25\", analysis_file)"
      ],
      "metadata": {
        "id": "Az7kdf0Zu1mI"
      },
      "execution_count": 72,
      "outputs": []
    },
    {
      "cell_type": "code",
      "source": [
        "info = api.info()\n",
        "model_gt100 = api.load(\"glove-twitter-100\")"
      ],
      "metadata": {
        "id": "tDUdC5kqrk6t"
      },
      "execution_count": 38,
      "outputs": []
    },
    {
      "cell_type": "code",
      "source": [
        "find_best_synonym(model_gt100, \"glove-twitter-100\", analysis_file)"
      ],
      "metadata": {
        "id": "-gLlSp0mv53U"
      },
      "execution_count": 73,
      "outputs": []
    },
    {
      "cell_type": "markdown",
      "source": [
        "## Task 3"
      ],
      "metadata": {
        "id": "6kFulitOftwO"
      }
    },
    {
      "cell_type": "code",
      "source": [
        "import nltk\n",
        "nltk.download('punkt')"
      ],
      "metadata": {
        "id": "OgH7LfN31nx8",
        "outputId": "d0a7d97a-0ea6-4314-db36-52ffbbbbcafe",
        "colab": {
          "base_uri": "https://localhost:8080/"
        }
      },
      "execution_count": 40,
      "outputs": [
        {
          "output_type": "stream",
          "name": "stderr",
          "text": [
            "[nltk_data] Downloading package punkt to /root/nltk_data...\n",
            "[nltk_data]   Package punkt is already up-to-date!\n"
          ]
        },
        {
          "output_type": "execute_result",
          "data": {
            "text/plain": [
              "True"
            ]
          },
          "metadata": {},
          "execution_count": 40
        }
      ]
    },
    {
      "cell_type": "code",
      "source": [
        "import requests\n",
        "from bs4 import BeautifulSoup\n",
        "from nltk.tokenize import sent_tokenize, word_tokenize"
      ],
      "metadata": {
        "id": "9zeSXSgsFJ6_"
      },
      "execution_count": 41,
      "outputs": []
    },
    {
      "cell_type": "code",
      "source": [
        "def fetch_and_preprocess_books(book_urls):\n",
        "    corpus = []\n",
        "    for url in book_urls:\n",
        "        response = requests.get(url)\n",
        "        soup = BeautifulSoup(response.text, 'html.parser')\n",
        "        text = soup.get_text()\n",
        "\n",
        "        sentences = sent_tokenize(text)\n",
        "\n",
        "        words_list = [word_tokenize(sentence.lower()) for sentence in sentences]\n",
        "\n",
        "        corpus.extend(words_list)\n",
        "    return corpus\n",
        "\n",
        "book_urls = [\n",
        "    \"https://www.gutenberg.org/files/11/11-0.txt\",  # Alice\n",
        "    \"https://www.gutenberg.org/files/1342/1342-0.txt\",# Pride and Prejudice\n",
        "    \"https://www.gutenberg.org/cache/epub/84/pg84.txt\", # frankenstein\n",
        "    \"https://www.gutenberg.org/cache/epub/2701/pg2701.txt\", # moby dick\n",
        "    \"https://www.gutenberg.org/cache/epub/64317/pg64317.txt\", # great gatsby\n",
        "    \"https://www.gutenberg.org/cache/epub/46/pg46.txt\", #A Christmas Carol in Prose; Being a Ghost Story of Christmas by Charles Dickens\n",
        "    \"https://www.gutenberg.org/cache/epub/1513/pg1513.txt\", #Romeo and Juliet\n",
        "    \"https://www.gutenberg.org/cache/epub/145/pg145.txt\", #Middle march\n",
        "    \"https://www.gutenberg.org/cache/epub/2641/pg2641.txt\", #A room with a view\n",
        "    \"https://www.gutenberg.org/cache/epub/37106/pg37106.txt\", # Little Women\n",
        "    \"https://www.gutenberg.org/cache/epub/25344/pg25344.txt\", #Scarlet letter\n",
        "    \"https://www.gutenberg.org/cache/epub/174/pg174.txt\", # Dorian Gray\n",
        "    \"https://www.gutenberg.org/cache/epub/74/pg74.txt\"#Tom Sawyer\n",
        "]\n",
        "\n",
        "corpus = fetch_and_preprocess_books(book_urls)"
      ],
      "metadata": {
        "id": "jiSeE-7nDoTo"
      },
      "execution_count": 58,
      "outputs": []
    },
    {
      "cell_type": "code",
      "source": [
        "model_1 = gensim.models.Word2Vec(sentences = corpus, vector_size = 50, window = 2, epochs = 15)"
      ],
      "metadata": {
        "id": "eaKWsuXOA-lG"
      },
      "execution_count": 74,
      "outputs": []
    },
    {
      "cell_type": "code",
      "source": [
        "find_best_synonym_wv(model_1, \"E5-W1\", analysis_file)"
      ],
      "metadata": {
        "id": "VC6FizLXAC4H"
      },
      "execution_count": 75,
      "outputs": []
    },
    {
      "cell_type": "code",
      "source": [
        "model_2 = gensim.models.Word2Vec(sentences = corpus, vector_size = 50, window = 5, epochs = 15)"
      ],
      "metadata": {
        "id": "HGlx6pN8A3w_"
      },
      "execution_count": 76,
      "outputs": []
    },
    {
      "cell_type": "code",
      "source": [
        "find_best_synonym_wv(model_2, \"E5-W2\", analysis_file)"
      ],
      "metadata": {
        "id": "i6tV3Zh6BUUv"
      },
      "execution_count": 77,
      "outputs": []
    },
    {
      "cell_type": "code",
      "source": [
        "model_3 = gensim.models.Word2Vec(sentences = corpus, vector_size = 100, window = 2, epochs = 15)"
      ],
      "metadata": {
        "id": "eTgOnjsuBiBY"
      },
      "execution_count": 78,
      "outputs": []
    },
    {
      "cell_type": "code",
      "source": [
        "find_best_synonym_wv(model_3, \"E6-W1\", analysis_file)"
      ],
      "metadata": {
        "id": "g5l1Ef6qBn5X"
      },
      "execution_count": 79,
      "outputs": []
    },
    {
      "cell_type": "code",
      "source": [
        "model_4 = gensim.models.Word2Vec(sentences=corpus, vector_size = 100, window= 5, epochs = 15)"
      ],
      "metadata": {
        "id": "CZ_OM2LlBsUf"
      },
      "execution_count": 80,
      "outputs": []
    },
    {
      "cell_type": "code",
      "source": [
        "find_best_synonym_wv(model_4, \"E6-W2\", analysis_file)"
      ],
      "metadata": {
        "id": "3A_7WXBnB0hv"
      },
      "execution_count": 81,
      "outputs": []
    },
    {
      "cell_type": "code",
      "source": [
        "analysis_file.close()"
      ],
      "metadata": {
        "id": "NDK5jjXKCGEf"
      },
      "execution_count": 82,
      "outputs": []
    }
  ]
}